{
 "cells": [
  {
   "cell_type": "code",
   "execution_count": 10,
   "id": "cc4c0da7",
   "metadata": {},
   "outputs": [],
   "source": [
    "import random\n",
    "\n",
    "class ZeroKnowledgeProof:\n",
    "    def __init__(self):\n",
    "        self.balls = [\"Red\", \"Green\"]\n",
    "\n",
    "    def shuffle_balls(self):\n",
    "        random.shuffle(self.balls)\n",
    "\n",
    "    def verify(self, initial_balls, shuffled_balls):\n",
    "        return initial_balls == shuffled_balls"
   ]
  },
  {
   "cell_type": "code",
   "execution_count": 11,
   "id": "198781c4",
   "metadata": {},
   "outputs": [],
   "source": [
    "def prove_different_colors(zkp, iterations):\n",
    "    n = 1\n",
    "    while n <= iterations:\n",
    "        zkp.shuffle_balls()\n",
    "        initial_balls = zkp.balls.copy()\n",
    "\n",
    "        choice = random.choice([True, False])  \n",
    "        if choice:\n",
    "            zkp.balls.reverse()\n",
    "\n",
    "        result = zkp.verify(initial_balls, zkp.balls)\n",
    "        print(f\"Initial: {initial_balls}, Shuffled: {zkp.balls}, Verified: {result}\")\n",
    "        \n",
    "        if not result:\n",
    "            return False\n",
    "        n += 1\n",
    "\n",
    "    return True"
   ]
  },
  {
   "cell_type": "code",
   "execution_count": 12,
   "id": "cc642feb",
   "metadata": {},
   "outputs": [],
   "source": [
    "zkp = ZeroKnowledgeProof()"
   ]
  },
  {
   "cell_type": "code",
   "execution_count": 13,
   "id": "17116973",
   "metadata": {},
   "outputs": [],
   "source": [
    "def test_zpk(zkp, iterations=10):\n",
    "    result = prove_different_colors(zkp, iterations)\n",
    "    if result == True:\n",
    "        print(\"Proof successful: The balls are different colors.\")\n",
    "    else:\n",
    "        print(\"Proof failed.\")"
   ]
  },
  {
   "cell_type": "code",
   "execution_count": 17,
   "id": "a6cd9988",
   "metadata": {},
   "outputs": [
    {
     "name": "stdout",
     "output_type": "stream",
     "text": [
      "Initial: ['Green', 'Red'], Shuffled: ['Green', 'Red'], Verified: True\n",
      "Initial: ['Red', 'Green'], Shuffled: ['Green', 'Red'], Verified: False\n",
      "Proof failed.\n",
      "Initial: ['Green', 'Red'], Shuffled: ['Green', 'Red'], Verified: True\n",
      "Initial: ['Green', 'Red'], Shuffled: ['Green', 'Red'], Verified: True\n",
      "Initial: ['Green', 'Red'], Shuffled: ['Green', 'Red'], Verified: True\n",
      "Initial: ['Red', 'Green'], Shuffled: ['Red', 'Green'], Verified: True\n",
      "Initial: ['Red', 'Green'], Shuffled: ['Red', 'Green'], Verified: True\n",
      "Initial: ['Green', 'Red'], Shuffled: ['Red', 'Green'], Verified: False\n",
      "Proof failed.\n",
      "Initial: ['Green', 'Red'], Shuffled: ['Green', 'Red'], Verified: True\n",
      "Initial: ['Green', 'Red'], Shuffled: ['Green', 'Red'], Verified: True\n",
      "Initial: ['Green', 'Red'], Shuffled: ['Green', 'Red'], Verified: True\n",
      "Initial: ['Red', 'Green'], Shuffled: ['Green', 'Red'], Verified: False\n",
      "Proof failed.\n",
      "Initial: ['Green', 'Red'], Shuffled: ['Red', 'Green'], Verified: False\n",
      "Proof failed.\n",
      "Initial: ['Green', 'Red'], Shuffled: ['Green', 'Red'], Verified: True\n",
      "Initial: ['Red', 'Green'], Shuffled: ['Red', 'Green'], Verified: True\n",
      "Initial: ['Red', 'Green'], Shuffled: ['Red', 'Green'], Verified: True\n",
      "Initial: ['Red', 'Green'], Shuffled: ['Green', 'Red'], Verified: False\n",
      "Proof failed.\n",
      "Initial: ['Red', 'Green'], Shuffled: ['Green', 'Red'], Verified: False\n",
      "Proof failed.\n",
      "Initial: ['Green', 'Red'], Shuffled: ['Red', 'Green'], Verified: False\n",
      "Proof failed.\n",
      "Initial: ['Red', 'Green'], Shuffled: ['Green', 'Red'], Verified: False\n",
      "Proof failed.\n",
      "Initial: ['Red', 'Green'], Shuffled: ['Red', 'Green'], Verified: True\n",
      "Initial: ['Green', 'Red'], Shuffled: ['Green', 'Red'], Verified: True\n",
      "Initial: ['Green', 'Red'], Shuffled: ['Red', 'Green'], Verified: False\n",
      "Proof failed.\n",
      "Initial: ['Red', 'Green'], Shuffled: ['Green', 'Red'], Verified: False\n",
      "Proof failed.\n"
     ]
    }
   ],
   "source": [
    "for i in range(10):\n",
    "    test_zpk(zkp, 10)"
   ]
  },
  {
   "cell_type": "code",
   "execution_count": 15,
   "id": "3264dce8",
   "metadata": {},
   "outputs": [
    {
     "data": {
      "text/plain": [
       "range(0, 10)"
      ]
     },
     "execution_count": 15,
     "metadata": {},
     "output_type": "execute_result"
    }
   ],
   "source": [
    "range(10)"
   ]
  },
  {
   "cell_type": "code",
   "execution_count": 16,
   "id": "40809600",
   "metadata": {},
   "outputs": [
    {
     "name": "stdout",
     "output_type": "stream",
     "text": [
      "0\n",
      "1\n",
      "2\n",
      "3\n",
      "4\n",
      "5\n",
      "6\n",
      "7\n",
      "8\n",
      "9\n"
     ]
    }
   ],
   "source": [
    "for i in range(10):\n",
    "    print(i)"
   ]
  },
  {
   "cell_type": "code",
   "execution_count": null,
   "id": "10def42e",
   "metadata": {},
   "outputs": [],
   "source": []
  }
 ],
 "metadata": {
  "kernelspec": {
   "display_name": "Python 3 (ipykernel)",
   "language": "python",
   "name": "python3"
  },
  "language_info": {
   "codemirror_mode": {
    "name": "ipython",
    "version": 3
   },
   "file_extension": ".py",
   "mimetype": "text/x-python",
   "name": "python",
   "nbconvert_exporter": "python",
   "pygments_lexer": "ipython3",
   "version": "3.10.9"
  }
 },
 "nbformat": 4,
 "nbformat_minor": 5
}
